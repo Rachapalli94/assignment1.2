{
 "cells": [
  {
   "cell_type": "code",
   "execution_count": 21,
   "metadata": {},
   "outputs": [
    {
     "name": "stdout",
     "output_type": "stream",
     "text": [
      "enter you first name Sai\n",
      "enter you last nameRacha\n",
      "first name is Sai\n",
      "last name is Racha\n",
      "your name is Sai Racha\n",
      "Sai Racha\n"
     ]
    },
    {
     "data": {
      "text/plain": [
       "'ahcaR iaS'"
      ]
     },
     "execution_count": 21,
     "metadata": {},
     "output_type": "execute_result"
    }
   ],
   "source": [
    "FirstName=input(\"enter you first name \")\n",
    "LastName=input(\"enter you last name\")\n",
    "YourName=FirstName+\" \"+LastName\n",
    "print(\"first name is\", FirstName)\n",
    "print(\"last name is\", LastName)\n",
    "print(\"your name is\" ,YourName)\n",
    "print(YourName)\n",
    "#reverse of full name\n",
    "YourName[::-1]\n",
    "\n"
   ]
  },
  {
   "cell_type": "code",
   "execution_count": null,
   "metadata": {},
   "outputs": [],
   "source": []
  },
  {
   "cell_type": "code",
   "execution_count": null,
   "metadata": {},
   "outputs": [],
   "source": []
  }
 ],
 "metadata": {
  "kernelspec": {
   "display_name": "Python 3",
   "language": "python",
   "name": "python3"
  },
  "language_info": {
   "codemirror_mode": {
    "name": "ipython",
    "version": 3
   },
   "file_extension": ".py",
   "mimetype": "text/x-python",
   "name": "python",
   "nbconvert_exporter": "python",
   "pygments_lexer": "ipython3",
   "version": "3.6.4"
  }
 },
 "nbformat": 4,
 "nbformat_minor": 2
}
